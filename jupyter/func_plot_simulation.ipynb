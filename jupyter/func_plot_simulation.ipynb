{
 "cells": [
  {
   "cell_type": "code",
   "execution_count": 5,
   "metadata": {},
   "outputs": [],
   "source": [
    "def plot_simulation(title, day, net):\n",
    "\n",
    "    day = day\n",
    "    input_dim = 6\n",
    "    TT = 22 # target temperature\n",
    "    r = 1e4\n",
    "    import gym\n",
    "    import numpy as np\n",
    "    import matplotlib.pyplot as plt\n",
    "    %matplotlib inline\n",
    "\n",
    "    env_id = 'gym_energyplus:EnergyPlus-v0'\n",
    "    env = gym.make(env_id)\n",
    "    #print(env.observation_space.high)\n",
    "    #print(env.observation_space.low)\n",
    "    #print(env.action_space.high)\n",
    "    #print(env.action_space.low)\n",
    "\n",
    "    plt.rcParams['figure.figsize'] = [12, 4]\n",
    "    plt.title(title)\n",
    "    plt.xlabel('time step / every 15 minutes')\n",
    "    plt.ylabel('centigrade degrees, ten kilowatts')\n",
    "\n",
    "    plt.axhline(y=TT, color='b', linestyle='-')\n",
    "\n",
    "    observation = env.reset()\n",
    "    plt.plot(0, observation[0], 'go', label='outdoor temperature')\n",
    "    plt.plot(0, observation[1], 'co', label='westzone temperature')\n",
    "    plt.plot(0, observation[2], 'm+', label='eastzone temperature')\n",
    "    plt.plot(0, observation[4]/r, 'r_', label='Non-HVAC electric demand power / 10KW')\n",
    "    plt.plot(0, observation[5]/r, 'y_', label='HVAC electric demand power / 10KW')\n",
    "    plt.plot(0, observation[3]/r, 'k_', label='total electric demand power / 10KW')\n",
    "\n",
    "    for i in range(96*day):\n",
    "        w = observation[1]\n",
    "        e = observation[2]\n",
    "        o = observation[0]\n",
    "        #################################################\n",
    "        x = observation.reshape((1, input_dim))\n",
    "        y = net(x)\n",
    "        action = y[0]*2 -1\n",
    "        #################################################\n",
    "        observation, reward, done, info = env.step(action)\n",
    "      \n",
    "        plt.plot(i+1, observation[0], 'go')\n",
    "        plt.plot(i+1, observation[1], 'co')\n",
    "        plt.plot(i+1, observation[2], 'm+')\n",
    "        plt.plot(i+1, observation[4]/r, 'r_')\n",
    "        plt.plot(i+1, observation[5]/r, 'y_')\n",
    "        plt.plot(i+1, observation[3]/r, 'k_')\n",
    "    \n",
    "    plt.legend()"
   ]
  }
 ],
 "metadata": {
  "kernelspec": {
   "display_name": "Python 3",
   "language": "python",
   "name": "python3"
  },
  "language_info": {
   "codemirror_mode": {
    "name": "ipython",
    "version": 3
   },
   "file_extension": ".py",
   "mimetype": "text/x-python",
   "name": "python",
   "nbconvert_exporter": "python",
   "pygments_lexer": "ipython3",
   "version": "3.5.2"
  }
 },
 "nbformat": 4,
 "nbformat_minor": 2
}
