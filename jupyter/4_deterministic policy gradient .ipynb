{
 "cells": [
  {
   "cell_type": "code",
   "execution_count": 12,
   "metadata": {},
   "outputs": [
    {
     "name": "stdout",
     "output_type": "stream",
     "text": [
      "Requirement already satisfied: import_ipynb in /home/xiaonanchong/venv/rl/lib/python3.5/site-packages (0.1.3)\r\n"
     ]
    },
    {
     "ename": "ImportError",
     "evalue": "cannot import name 'MultiLayerNetwork'",
     "output_type": "error",
     "traceback": [
      "\u001b[0;31m---------------------------------------------------------------------------\u001b[0m",
      "\u001b[0;31mImportError\u001b[0m                               Traceback (most recent call last)",
      "\u001b[0;32m<ipython-input-12-12e92b7e3899>\u001b[0m in \u001b[0;36m<module>\u001b[0;34m\u001b[0m\n\u001b[1;32m     17\u001b[0m \u001b[0mget_ipython\u001b[0m\u001b[0;34m(\u001b[0m\u001b[0;34m)\u001b[0m\u001b[0;34m.\u001b[0m\u001b[0msystem\u001b[0m\u001b[0;34m(\u001b[0m\u001b[0;34m'pip install import_ipynb'\u001b[0m\u001b[0;34m)\u001b[0m\u001b[0;34m\u001b[0m\u001b[0m\n\u001b[1;32m     18\u001b[0m \u001b[0;32mimport\u001b[0m \u001b[0mimport_ipynb\u001b[0m\u001b[0;34m\u001b[0m\u001b[0m\n\u001b[0;32m---> 19\u001b[0;31m \u001b[0;32mfrom\u001b[0m \u001b[0mnn_lib\u001b[0m \u001b[0;32mimport\u001b[0m \u001b[0mMultiLayerNetwork\u001b[0m\u001b[0;34m,\u001b[0m \u001b[0msave_network\u001b[0m\u001b[0;34m,\u001b[0m \u001b[0mload_network\u001b[0m\u001b[0;34m\u001b[0m\u001b[0m\n\u001b[0m\u001b[1;32m     20\u001b[0m \u001b[0;34m\u001b[0m\u001b[0m\n\u001b[1;32m     21\u001b[0m \u001b[0;32mimport\u001b[0m \u001b[0mnn_lib\u001b[0m\u001b[0;34m\u001b[0m\u001b[0m\n",
      "\u001b[0;31mImportError\u001b[0m: cannot import name 'MultiLayerNetwork'"
     ]
    }
   ],
   "source": [
    "env_id = 'gym_energyplus:EnergyPlus-v0'\n",
    "\n",
    "iteration = 10\n",
    "batch_size = 7\n",
    "episode = 500\n",
    "learning_rate = 0.005\n",
    "\n",
    "\n",
    "\n",
    "import numpy as np\n",
    "import gym\n",
    "env = gym.make(env_id)\n",
    "\n",
    "output_dim = len(env.action_space.low)\n",
    "input_dim = len(env.observation_space.low)\n",
    "\n",
    "!pip install import_ipynb\n",
    "import import_ipynb\n",
    "from nn_lib import MultiLayerNetwork, save_network, load_network\n",
    "\n",
    "import nn_lib\n",
    "\n",
    "\n",
    "neurons = [32, 16, output_dim]\n",
    "activations = [\"sigmoid\", \"relu\", \"sigmoid\"]\n",
    "net = nn_lib.MultiLayerNetwork(input_dim, neurons, activations)\n",
    "\n",
    "import matplotlib.pyplot as plt\n",
    "%matplotlib inline \n",
    "plt.rcParams['figure.figsize'] = [14, 5]\n",
    "_, ax1 = plt.subplots()\n",
    "\n",
    "for i in range(iteration):\n",
    "    rewards = 0\n",
    "    print('---------- '+str(i)+' ---------- ')\n",
    "        \n",
    "    if i%1==0:\n",
    "        fig, ax = plt.subplots()\n",
    "    \n",
    "    for color in ['b', 'g', 'r', 'c', 'm', 'y', 'k']:\n",
    "        \n",
    "        t=0\n",
    "        env = gym.make(env_id2)\n",
    "        observation = env.reset()\n",
    "        done = False\n",
    "        while not done and t<500:\n",
    "            x = observation.reshape((1, input_dim))\n",
    "            y = net(x)\n",
    "            action = y[0]*2 -1\n",
    "            #print(action)\n",
    "            observation, reward, done, info = env.step(action)\n",
    "            rewards+=reward*0.99**t\n",
    "            t+=1\n",
    "            \n",
    "            if i%1==0:    \n",
    "                ax.scatter(t,reward, c=color)    \n",
    "                \n",
    "    ax1.scatter(i,rewards)\n",
    "    \n",
    "    loss = -rewards/float(batch_size)\n",
    "    print('rewards: ', rewards)\n",
    "    net.backward(np.asarray([[loss for i in range(output_dim)]]))\n",
    "    net.update_params(learning_rate)\n",
    "    \n",
    "save_network(net, \"/home/hchonglondon/net\") \n",
    "print('network saved')"
   ]
  }
 ],
 "metadata": {
  "kernelspec": {
   "display_name": "Python 3",
   "language": "python",
   "name": "python3"
  },
  "language_info": {
   "codemirror_mode": {
    "name": "ipython",
    "version": 3
   },
   "file_extension": ".py",
   "mimetype": "text/x-python",
   "name": "python",
   "nbconvert_exporter": "python",
   "pygments_lexer": "ipython3",
   "version": "3.5.2"
  }
 },
 "nbformat": 4,
 "nbformat_minor": 2
}
