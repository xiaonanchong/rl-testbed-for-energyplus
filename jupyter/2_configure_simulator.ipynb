{
 "cells": [
  {
   "cell_type": "code",
   "execution_count": 1,
   "metadata": {},
   "outputs": [
    {
     "name": "stdout",
     "output_type": "stream",
     "text": [
      "--2019-05-28 21:14:05--  https://www.energycodes.gov/sites/default/files/documents/USA_NY_New.York-John.F.Kennedy.Intl.AP.744860_TMY3.epw\n",
      "Resolving www.energycodes.gov (www.energycodes.gov)... 192.101.104.33\n",
      "Connecting to www.energycodes.gov (www.energycodes.gov)|192.101.104.33|:443... connected.\n",
      "HTTP request sent, awaiting response... 200 OK\n",
      "Length: 1614078 (1.5M) [text/plain]\n",
      "Saving to: ‘USA_NY_New.York-John.F.Kennedy.Intl.AP.744860_TMY3.epw’\n",
      "\n",
      "USA_NY_New.York-Joh 100%[===================>]   1.54M   135KB/s    in 13s     \n",
      "\n",
      "2019-05-28 21:14:19 (122 KB/s) - ‘USA_NY_New.York-John.F.Kennedy.Intl.AP.744860_TMY3.epw’ saved [1614078/1614078]\n",
      "\n"
     ]
    }
   ],
   "source": [
    "! wget https://www.energycodes.gov/sites/default/files/documents/USA_NY_New.York-John.F.Kennedy.Intl.AP.744860_TMY3.epw"
   ]
  },
  {
   "cell_type": "code",
   "execution_count": 2,
   "metadata": {},
   "outputs": [],
   "source": [
    "! mkdir test"
   ]
  },
  {
   "cell_type": "code",
   "execution_count": 3,
   "metadata": {},
   "outputs": [
    {
     "name": "stdout",
     "output_type": "stream",
     "text": [
      "1_understand the environmen_wrong.ipynb\r\n",
      "2_configure_simulator.ipynb\r\n",
      "baselines_energyplus\r\n",
      "CONDUCT.md\r\n",
      "CONTRIBUTING.md\r\n",
      "DCO1.1.txt\r\n",
      "EnergyPlus\r\n",
      "gym_energyplus\r\n",
      "HEADER\r\n",
      "images\r\n",
      "LICENSE\r\n",
      "log\r\n",
      "MAINTAINERS.txt\r\n",
      "README.md\r\n",
      "test\r\n",
      "USA_NY_New.York-John.F.Kennedy.Intl.AP.744860_TMY3.epw\r\n"
     ]
    }
   ],
   "source": [
    "! ls\n"
   ]
  },
  {
   "cell_type": "code",
   "execution_count": 5,
   "metadata": {},
   "outputs": [
    {
     "name": "stdout",
     "output_type": "stream",
     "text": [
      "1_understand the environmen_wrong.ipynb\r\n",
      "2_configure_simulator.ipynb\r\n",
      "ASHRAE90.1_OfficeSmall_STD2004_NewYork.idf\r\n",
      "baselines_energyplus\r\n",
      "CONDUCT.md\r\n",
      "CONTRIBUTING.md\r\n",
      "DCO1.1.txt\r\n",
      "EnergyPlus\r\n",
      "gym_energyplus\r\n",
      "HEADER\r\n",
      "images\r\n",
      "LICENSE\r\n",
      "log\r\n",
      "MAINTAINERS.txt\r\n",
      "README.md\r\n",
      "test\r\n",
      "USA_NY_New.York-John.F.Kennedy.Intl.AP.744860_TMY3.epw\r\n"
     ]
    }
   ],
   "source": [
    "! ls"
   ]
  },
  {
   "cell_type": "code",
   "execution_count": 8,
   "metadata": {},
   "outputs": [],
   "source": [
    "! mv USA_NY_New.York-John.F.Kennedy.Intl.AP.744860_TMY3.epw test"
   ]
  },
  {
   "cell_type": "code",
   "execution_count": 15,
   "metadata": {},
   "outputs": [
    {
     "name": "stdout",
     "output_type": "stream",
     "text": [
      "/home/xiaonanchong/rl-testbed-for-energyplus/test\n",
      "ASHRAE90.1_OfficeSmall_STD2004_NewYork.idf\n",
      "eplusout.audit\n",
      "eplusout.end\n",
      "eplusout.err\n",
      "sqlite.err\n",
      "USA_NY_New.York-John.F.Kennedy.Intl.AP.744860_TMY3.epw\n"
     ]
    }
   ],
   "source": [
    "%cd test\n",
    "!ls"
   ]
  },
  {
   "cell_type": "code",
   "execution_count": 18,
   "metadata": {},
   "outputs": [
    {
     "name": "stdout",
     "output_type": "stream",
     "text": [
      "EnergyPlus Starting\n",
      "EnergyPlus, Version 8.8.0-Unknown, YMD=2019.05.28 22:14\n",
      "Processing Data Dictionary\n",
      "Processing Input File\n",
      "**FATAL:IP: Errors occurred on processing IDF file. Preceding condition(s) cause termination.\n",
      "EnergyPlus Run Time=00hr 00min  0.92sec\n"
     ]
    }
   ],
   "source": [
    "!energyplus -i /usr/local/EnergyPlus-8-8-0/Energy+.idd -w USA_NY_New.York-John.F.Kennedy.Intl.AP.744860_TMY3.epw ASHRAE90.1_OfficeSmall_STD2004_NewYork.idf  "
   ]
  },
  {
   "cell_type": "code",
   "execution_count": 19,
   "metadata": {},
   "outputs": [
    {
     "name": "stdout",
     "output_type": "stream",
     "text": [
      "EnergyPlus Starting\n",
      "EnergyPlus, Version 8.8.0-Unknown, YMD=2019.05.28 22:16\n",
      "Processing Data Dictionary\n",
      "Processing Input File\n",
      "**FATAL:IP: Errors occurred on processing IDF file. Preceding condition(s) cause termination.\n",
      "EnergyPlus Run Time=00hr 00min  0.92sec\n"
     ]
    }
   ],
   "source": [
    "!energyplus -i /usr/local/EnergyPlus-8-8-0/Energy+.idd -w USA_NY_New.York-John.F.Kennedy.Intl.AP.744860_TMY3.epw ASHRAE90.1_OfficeSmall_STD2004_Albuquerque.idf"
   ]
  },
  {
   "cell_type": "code",
   "execution_count": 17,
   "metadata": {},
   "outputs": [
    {
     "name": "stdout",
     "output_type": "stream",
     "text": [
      "EnergyPlus Starting\n",
      "EnergyPlus, Version 8.8.0-Unknown, YMD=2019.05.28 21:25\n",
      "Processing Data Dictionary\n",
      "Processing Input File\n",
      "Initializing Response Factors\n",
      "Calculating CTFs for \"EXT-WALLS\", Construction # 1\n",
      "Calculating CTFs for \"FLOOR\", Construction # 2\n",
      "Calculating CTFs for \"PARTITION\", Construction # 4\n",
      "Calculating CTFs for \"PLENUM FLOOR\", Construction # 5\n",
      "Initializing Window Optical Properties\n",
      "Initializing Solar Calculations\n",
      "Allocate Solar Module Arrays\n",
      "Initializing Zone Report Variables\n",
      "Initializing Surface (Shading) Report Variables\n",
      "Computing Interior Solar Absorption Factors\n",
      "Determining Shadowing Combinations\n",
      "Computing Window Shade Absorption Factors\n",
      "Proceeding with Initializing Solar Calculations\n",
      "Initializing Surfaces\n",
      "Initializing Outdoor environment for Surfaces\n",
      "Setting up Surface Reporting Variables\n",
      "Initializing Temperature and Flux Histories\n",
      "Initializing Window Shading\n",
      "Computing Interior Absorption Factors\n",
      "Computing Interior Diffuse Solar Absorption Factors\n",
      "Computing Interior Diffuse Solar Exchange through Interzone Windows\n",
      "Initializing Solar Heat Gains\n",
      "Initializing Internal Heat Gains\n",
      "Initializing Interior Solar Distribution\n",
      "Initializing Interior Convection Coefficients\n",
      "Gathering Information for Predefined Reporting\n",
      "Completed Initializing Surface Heat Balance\n",
      "Calculate Outside Surface Heat Balance\n",
      "Calculate Inside Surface Heat Balance\n",
      "Calculate Air Heat Balance\n",
      "Initializing HVAC\n",
      "Warming up\n",
      "Warming up\n",
      "Warming up\n",
      "Warming up\n",
      "Warming up\n",
      "Warming up\n",
      "Performing Zone Sizing Simulation\n",
      "...for Sizing Period: #1 CHICAGO_IL_USA ANNUAL HEATING 99% DESIGN CONDITIONS DB\n",
      "Warming up\n",
      "Warming up\n",
      "Warming up\n",
      "Warming up\n",
      "Warming up\n",
      "Warming up\n",
      "Performing Zone Sizing Simulation\n",
      "...for Sizing Period: #2 CHICAGO_IL_USA ANNUAL COOLING 1% DESIGN CONDITIONS DB/MCWB\n",
      "Calculating System sizing\n",
      "...for Sizing Period: #1 CHICAGO_IL_USA ANNUAL HEATING 99% DESIGN CONDITIONS DB\n",
      "Calculating System sizing\n",
      "...for Sizing Period: #2 CHICAGO_IL_USA ANNUAL COOLING 1% DESIGN CONDITIONS DB/MCWB\n",
      "Initializing Simulation\n",
      "Reporting Surfaces\n",
      "Beginning Primary Simulation\n",
      "Initializing New Environment Parameters\n",
      "Warming up {1}\n",
      "Warming up {2}\n",
      "Warming up {3}\n",
      "Warming up {4}\n",
      "Warming up {5}\n",
      "Warming up {6}\n",
      "Starting Simulation at 01/01 for WHOLEYEARDAY\n",
      "Updating Shadowing Calculations, Start Date=01/21\n",
      "Continuing Simulation at 01/21 for WHOLEYEARDAY\n",
      "Updating Shadowing Calculations, Start Date=02/10\n",
      "Continuing Simulation at 02/10 for WHOLEYEARDAY\n",
      "Updating Shadowing Calculations, Start Date=03/02\n",
      "Continuing Simulation at 03/02 for WHOLEYEARDAY\n",
      "Updating Shadowing Calculations, Start Date=03/22\n",
      "Continuing Simulation at 03/22 for WHOLEYEARDAY\n",
      "Updating Shadowing Calculations, Start Date=04/11\n",
      "Continuing Simulation at 04/11 for WHOLEYEARDAY\n",
      "Updating Shadowing Calculations, Start Date=05/01\n",
      "Continuing Simulation at 05/01 for WHOLEYEARDAY\n",
      "Updating Shadowing Calculations, Start Date=05/21\n",
      "Continuing Simulation at 05/21 for WHOLEYEARDAY\n",
      "Updating Shadowing Calculations, Start Date=06/10\n",
      "Continuing Simulation at 06/10 for WHOLEYEARDAY\n",
      "Updating Shadowing Calculations, Start Date=06/30\n",
      "Continuing Simulation at 06/30 for WHOLEYEARDAY\n",
      "Updating Shadowing Calculations, Start Date=07/20\n",
      "Continuing Simulation at 07/20 for WHOLEYEARDAY\n",
      "Updating Shadowing Calculations, Start Date=08/09\n",
      "Continuing Simulation at 08/09 for WHOLEYEARDAY\n",
      "Updating Shadowing Calculations, Start Date=08/29\n",
      "Continuing Simulation at 08/29 for WHOLEYEARDAY\n",
      "Updating Shadowing Calculations, Start Date=09/18\n",
      "Continuing Simulation at 09/18 for WHOLEYEARDAY\n",
      "Updating Shadowing Calculations, Start Date=10/08\n",
      "Continuing Simulation at 10/08 for WHOLEYEARDAY\n",
      "Updating Shadowing Calculations, Start Date=10/28\n",
      "Continuing Simulation at 10/28 for WHOLEYEARDAY\n",
      "Updating Shadowing Calculations, Start Date=11/17\n",
      "Continuing Simulation at 11/17 for WHOLEYEARDAY\n",
      "Updating Shadowing Calculations, Start Date=12/07\n",
      "Continuing Simulation at 12/07 for WHOLEYEARDAY\n",
      "Updating Shadowing Calculations, Start Date=12/27\n",
      "Continuing Simulation at 12/27 for WHOLEYEARDAY\n",
      "Writing tabular output file results using HTML format.\n",
      "Writing final SQL reports\n",
      "EnergyPlus Run Time=00hr 00min 35.59sec\n"
     ]
    }
   ],
   "source": [
    "!energyplus -i /usr/local/EnergyPlus-8-8-0/Energy+.idd -w USA_NY_New.York-John.F.Kennedy.Intl.AP.744860_TMY3.epw 2ZoneDataCenterHVAC_wEconomizer-baseline.idf"
   ]
  },
  {
   "cell_type": "markdown",
   "metadata": {},
   "source": [
    "2019/5/29"
   ]
  },
  {
   "cell_type": "code",
   "execution_count": 1,
   "metadata": {},
   "outputs": [
    {
     "name": "stdout",
     "output_type": "stream",
     "text": [
      "1_understand the environment_wrong.ipynb  DCO1.1.txt\t  LICENSE\r\n",
      "2_configure_simulator.ipynb\t\t  EnergyPlus\t  log\r\n",
      "baselines_energyplus\t\t\t  gym_energyplus  MAINTAINERS.txt\r\n",
      "CONDUCT.md\t\t\t\t  HEADER\t  README.md\r\n",
      "CONTRIBUTING.md\t\t\t\t  images\t  test\r\n"
     ]
    }
   ],
   "source": [
    "!ls"
   ]
  },
  {
   "cell_type": "code",
   "execution_count": 2,
   "metadata": {},
   "outputs": [
    {
     "name": "stdout",
     "output_type": "stream",
     "text": [
      "ERROR: Could not find input data file: /home/xiaonanchong/rl-testbed-for-energyplus/ENERGYPLUS_MODEL.\r\n",
      "Type 'energyplus --help' for usage.\r\n"
     ]
    }
   ],
   "source": [
    "!energyplus -i /usr/local/EnergyPlus-8-8-0/Energy+.idd -w ENERGYPLUS_WEATHER ENERGYPLUS_MODEL "
   ]
  },
  {
   "cell_type": "code",
   "execution_count": 3,
   "metadata": {},
   "outputs": [
    {
     "name": "stdout",
     "output_type": "stream",
     "text": [
      "/home/xiaonanchong/EnergyPlus-8.8.0/test\n",
      "EnergyPlus Starting\n",
      "EnergyPlus, Version 8.8.0-Unknown, YMD=2019.05.29 08:40\n",
      "Processing Data Dictionary\n",
      "Processing Input File\n",
      "Initializing Response Factors\n",
      "Calculating CTFs for \"EXT-WALLS\", Construction # 1\n",
      "Calculating CTFs for \"FLOOR\", Construction # 2\n",
      "Calculating CTFs for \"PARTITION\", Construction # 4\n",
      "Calculating CTFs for \"PLENUM FLOOR\", Construction # 5\n",
      "Initializing Window Optical Properties\n",
      "Initializing Solar Calculations\n",
      "Allocate Solar Module Arrays\n",
      "Initializing Zone Report Variables\n",
      "Initializing Surface (Shading) Report Variables\n",
      "Computing Interior Solar Absorption Factors\n",
      "Determining Shadowing Combinations\n",
      "Computing Window Shade Absorption Factors\n",
      "Proceeding with Initializing Solar Calculations\n",
      "Initializing Surfaces\n",
      "Initializing Outdoor environment for Surfaces\n",
      "Setting up Surface Reporting Variables\n",
      "Initializing Temperature and Flux Histories\n",
      "Initializing Window Shading\n",
      "Computing Interior Absorption Factors\n",
      "Computing Interior Diffuse Solar Absorption Factors\n",
      "Computing Interior Diffuse Solar Exchange through Interzone Windows\n",
      "Initializing Solar Heat Gains\n",
      "Initializing Internal Heat Gains\n",
      "Initializing Interior Solar Distribution\n",
      "Initializing Interior Convection Coefficients\n",
      "Gathering Information for Predefined Reporting\n",
      "Completed Initializing Surface Heat Balance\n",
      "Calculate Outside Surface Heat Balance\n",
      "Calculate Inside Surface Heat Balance\n",
      "Calculate Air Heat Balance\n",
      "Initializing HVAC\n",
      "Warming up\n",
      "Warming up\n",
      "Warming up\n",
      "Warming up\n",
      "Warming up\n",
      "Warming up\n",
      "Performing Zone Sizing Simulation\n",
      "...for Sizing Period: #1 CHICAGO_IL_USA ANNUAL HEATING 99% DESIGN CONDITIONS DB\n",
      "Warming up\n",
      "Warming up\n",
      "Warming up\n",
      "Warming up\n",
      "Warming up\n",
      "Warming up\n",
      "Performing Zone Sizing Simulation\n",
      "...for Sizing Period: #2 CHICAGO_IL_USA ANNUAL COOLING 1% DESIGN CONDITIONS DB/MCWB\n",
      "Calculating System sizing\n",
      "...for Sizing Period: #1 CHICAGO_IL_USA ANNUAL HEATING 99% DESIGN CONDITIONS DB\n",
      "Calculating System sizing\n",
      "...for Sizing Period: #2 CHICAGO_IL_USA ANNUAL COOLING 1% DESIGN CONDITIONS DB/MCWB\n",
      "Initializing Simulation\n",
      "Reporting Surfaces\n",
      "Beginning Primary Simulation\n",
      "Initializing New Environment Parameters\n",
      "Warming up {1}\n",
      "Warming up {2}\n",
      "Warming up {3}\n",
      "Warming up {4}\n",
      "Warming up {5}\n",
      "Warming up {6}\n",
      "Starting Simulation at 01/12 for WINTERSEASONDAY\n",
      "Initializing New Environment Parameters\n",
      "Warming up {1}\n",
      "Warming up {2}\n",
      "Warming up {3}\n",
      "Warming up {4}\n",
      "Warming up {5}\n",
      "Warming up {6}\n",
      "Starting Simulation at 04/14 for SPRINGSEASONDAY\n",
      "Initializing New Environment Parameters\n",
      "Warming up {1}\n",
      "Warming up {2}\n",
      "Warming up {3}\n",
      "Warming up {4}\n",
      "Warming up {5}\n",
      "Warming up {6}\n",
      "Starting Simulation at 07/14 for SUMMERSEASONDAY\n",
      "Initializing New Environment Parameters\n",
      "Warming up {1}\n",
      "Warming up {2}\n",
      "Warming up {3}\n",
      "Warming up {4}\n",
      "Warming up {5}\n",
      "Warming up {6}\n",
      "Starting Simulation at 10/12 for AUTUMNSEASONDAY\n",
      "Writing tabular output file results using HTML format.\n",
      "Writing final SQL reports\n",
      "EnergyPlus Run Time=00hr 00min  6.05sec\n"
     ]
    }
   ],
   "source": [
    "%cd /home/xiaonanchong/EnergyPlus-8.8.0/test\n",
    "!energyplus -i /usr/local/EnergyPlus-8-8-0/Energy+.idd -w /home/xiaonanchong/EnergyPlus-8.8.0/test/USA_CO_Golden-NREL.724666_TMY3.epw /home/xiaonanchong/EnergyPlus-8.8.0/test/2ZoneDataCenterHVAC_wEconomizer.idf"
   ]
  },
  {
   "cell_type": "code",
   "execution_count": 2,
   "metadata": {},
   "outputs": [
    {
     "name": "stdout",
     "output_type": "stream",
     "text": [
      "1_understand the environment_wrong.ipynb  eplusout.eio\tgym_energyplus\r\n",
      "2_configure_simulator.ipynb\t\t  eplusout.end\tHEADER\r\n",
      "baselines_energyplus\t\t\t  eplusout.err\timages\r\n",
      "CONDUCT.md\t\t\t\t  eplusout.eso\tLICENSE\r\n",
      "CONTRIBUTING.md\t\t\t\t  eplusout.mdd\tlog\r\n",
      "DCO1.1.txt\t\t\t\t  eplusout.mtd\tMAINTAINERS.txt\r\n",
      "EnergyPlus\t\t\t\t  eplusout.rdd\tREADME.md\r\n",
      "eplusout.audit\t\t\t\t  eplusout.shd\tsqlite.err\r\n",
      "eplusout.bnd\t\t\t\t  eplusssz.csv\ttest\r\n",
      "eplusout.dxf\t\t\t\t  eplustbl.htm\r\n",
      "eplusout.edd\t\t\t\t  epluszsz.csv\r\n"
     ]
    }
   ],
   "source": [
    "!ls"
   ]
  },
  {
   "cell_type": "code",
   "execution_count": 4,
   "metadata": {},
   "outputs": [
    {
     "name": "stdout",
     "output_type": "stream",
     "text": [
      "/home/xiaonanchong/EnergyPlus-8.8.0/test-utf8\n",
      "EnergyPlus Starting\n",
      "EnergyPlus, Version 8.8.0-Unknown, YMD=2019.05.29 08:47\n",
      "Processing Data Dictionary\n",
      "Processing Input File\n",
      "Initializing Response Factors\n",
      "Calculating CTFs for \"EXT-WALLS\", Construction # 1\n",
      "Calculating CTFs for \"FLOOR\", Construction # 2\n",
      "Calculating CTFs for \"PARTITION\", Construction # 4\n",
      "Calculating CTFs for \"PLENUM FLOOR\", Construction # 5\n",
      "Initializing Window Optical Properties\n",
      "Initializing Solar Calculations\n",
      "Allocate Solar Module Arrays\n",
      "Initializing Zone Report Variables\n",
      "Initializing Surface (Shading) Report Variables\n",
      "Computing Interior Solar Absorption Factors\n",
      "Determining Shadowing Combinations\n",
      "Computing Window Shade Absorption Factors\n",
      "Proceeding with Initializing Solar Calculations\n",
      "Initializing Surfaces\n",
      "Initializing Outdoor environment for Surfaces\n",
      "Setting up Surface Reporting Variables\n",
      "Initializing Temperature and Flux Histories\n",
      "Initializing Window Shading\n",
      "Computing Interior Absorption Factors\n",
      "Computing Interior Diffuse Solar Absorption Factors\n",
      "Computing Interior Diffuse Solar Exchange through Interzone Windows\n",
      "Initializing Solar Heat Gains\n",
      "Initializing Internal Heat Gains\n",
      "Initializing Interior Solar Distribution\n",
      "Initializing Interior Convection Coefficients\n",
      "Gathering Information for Predefined Reporting\n",
      "Completed Initializing Surface Heat Balance\n",
      "Calculate Outside Surface Heat Balance\n",
      "Calculate Inside Surface Heat Balance\n",
      "Calculate Air Heat Balance\n",
      "Initializing HVAC\n",
      "Warming up\n",
      "Warming up\n",
      "Warming up\n",
      "Warming up\n",
      "Warming up\n",
      "Warming up\n",
      "Performing Zone Sizing Simulation\n",
      "...for Sizing Period: #1 CHICAGO_IL_USA ANNUAL HEATING 99% DESIGN CONDITIONS DB\n",
      "Warming up\n",
      "Warming up\n",
      "Warming up\n",
      "Warming up\n",
      "Warming up\n",
      "Warming up\n",
      "Performing Zone Sizing Simulation\n",
      "...for Sizing Period: #2 CHICAGO_IL_USA ANNUAL COOLING 1% DESIGN CONDITIONS DB/MCWB\n",
      "Calculating System sizing\n",
      "...for Sizing Period: #1 CHICAGO_IL_USA ANNUAL HEATING 99% DESIGN CONDITIONS DB\n",
      "Calculating System sizing\n",
      "...for Sizing Period: #2 CHICAGO_IL_USA ANNUAL COOLING 1% DESIGN CONDITIONS DB/MCWB\n",
      "Initializing Simulation\n",
      "Reporting Surfaces\n",
      "Beginning Primary Simulation\n",
      "Initializing New Environment Parameters\n",
      "Warming up {1}\n",
      "Warming up {2}\n",
      "Warming up {3}\n",
      "Warming up {4}\n",
      "Warming up {5}\n",
      "Warming up {6}\n",
      "Starting Simulation at 01/12 for WINTERSEASONDAY\n",
      "Initializing New Environment Parameters\n",
      "Warming up {1}\n",
      "Warming up {2}\n",
      "Warming up {3}\n",
      "Warming up {4}\n",
      "Warming up {5}\n",
      "Warming up {6}\n",
      "Starting Simulation at 04/14 for SPRINGSEASONDAY\n",
      "Initializing New Environment Parameters\n",
      "Warming up {1}\n",
      "Warming up {2}\n",
      "Warming up {3}\n",
      "Warming up {4}\n",
      "Warming up {5}\n",
      "Warming up {6}\n",
      "Starting Simulation at 07/14 for SUMMERSEASONDAY\n",
      "Initializing New Environment Parameters\n",
      "Warming up {1}\n",
      "Warming up {2}\n",
      "Warming up {3}\n",
      "Warming up {4}\n",
      "Warming up {5}\n",
      "Warming up {6}\n",
      "Starting Simulation at 10/12 for AUTUMNSEASONDAY\n",
      "Writing tabular output file results using HTML format.\n",
      "Writing final SQL reports\n",
      "EnergyPlus Run Time=00hr 00min  6.03sec\n"
     ]
    }
   ],
   "source": [
    "%cd /home/xiaonanchong/EnergyPlus-8.8.0/test-utf8\n",
    "!energyplus -i /usr/local/EnergyPlus-8-8-0/Energy+.idd -w USA_CO_Golden-NREL.724666_TMY3.epw 2ZoneDataCenterHVAC_wEconomizer.idf"
   ]
  },
  {
   "cell_type": "code",
   "execution_count": 6,
   "metadata": {},
   "outputs": [
    {
     "name": "stdout",
     "output_type": "stream",
     "text": [
      "1ZoneEvapCooler.idf\t\t     eplusout.mdd\r\n",
      "2ZoneDataCenterHVAC_wEconomizer.idf  eplusout.mtd\r\n",
      "eplusout.audit\t\t\t     eplusout.rdd\r\n",
      "eplusout.bnd\t\t\t     eplusout.shd\r\n",
      "eplusout.dxf\t\t\t     eplusssz.csv\r\n",
      "eplusout.edd\t\t\t     eplustbl.htm\r\n",
      "eplusout.eio\t\t\t     epluszsz.csv\r\n",
      "eplusout.end\t\t\t     sqlite.err\r\n",
      "eplusout.err\t\t\t     USA_CO_Golden-NREL.724666_TMY3.epw\r\n",
      "eplusout.eso\r\n"
     ]
    }
   ],
   "source": [
    "!ls\n"
   ]
  },
  {
   "cell_type": "code",
   "execution_count": 8,
   "metadata": {},
   "outputs": [
    {
     "name": "stdout",
     "output_type": "stream",
     "text": [
      "/home/xiaonanchong/EnergyPlus-8.8.0/test-utf8\n",
      "EnergyPlus Starting\n",
      "EnergyPlus, Version 8.8.0-Unknown, YMD=2019.05.29 09:11\n",
      "Processing Data Dictionary\n",
      "Processing Input File\n",
      "Initializing Simulation\n",
      "Reporting Surfaces\n",
      "Beginning Primary Simulation\n",
      "Initializing New Environment Parameters\n",
      "Warming up {1}\n",
      "Warming up {2}\n",
      "Warming up {3}\n",
      "Warming up {4}\n",
      "Warming up {5}\n",
      "Warming up {6}\n",
      "Starting Simulation at 12/21 for DENVER CENTENNIAL ANN HTG 99.6% CONDNS DB\n",
      "Initializing New Environment Parameters\n",
      "Warming up {1}\n",
      "Warming up {2}\n",
      "Warming up {3}\n",
      "Warming up {4}\n",
      "Warming up {5}\n",
      "Warming up {6}\n",
      "Starting Simulation at 07/21 for DENVER CENTENNIAL ANN CLG 1% CONDNS DB=>MWB\n",
      "Initializing New Environment Parameters\n",
      "Warming up {1}\n",
      "Warming up {2}\n",
      "Warming up {3}\n",
      "Warming up {4}\n",
      "Warming up {5}\n",
      "Warming up {6}\n",
      "Starting Simulation at 01/01 for Denver Centennial  Golden   Nr CO USA TMY3 WMO#=724666\n",
      "Updating Shadowing Calculations, Start Date=01/21\n",
      "Continuing Simulation at 01/21 for Denver Centennial  Golden   Nr CO USA TMY3 WMO#=724666\n",
      "Updating Shadowing Calculations, Start Date=02/10\n",
      "Continuing Simulation at 02/10 for Denver Centennial  Golden   Nr CO USA TMY3 WMO#=724666\n",
      "Updating Shadowing Calculations, Start Date=03/02\n",
      "Continuing Simulation at 03/02 for Denver Centennial  Golden   Nr CO USA TMY3 WMO#=724666\n",
      "Updating Shadowing Calculations, Start Date=03/22\n",
      "Continuing Simulation at 03/22 for Denver Centennial  Golden   Nr CO USA TMY3 WMO#=724666\n",
      "Updating Shadowing Calculations, Start Date=04/11\n",
      "Continuing Simulation at 04/11 for Denver Centennial  Golden   Nr CO USA TMY3 WMO#=724666\n",
      "Updating Shadowing Calculations, Start Date=05/01\n",
      "Continuing Simulation at 05/01 for Denver Centennial  Golden   Nr CO USA TMY3 WMO#=724666\n",
      "Updating Shadowing Calculations, Start Date=05/21\n",
      "Continuing Simulation at 05/21 for Denver Centennial  Golden   Nr CO USA TMY3 WMO#=724666\n",
      "Updating Shadowing Calculations, Start Date=06/10\n",
      "Continuing Simulation at 06/10 for Denver Centennial  Golden   Nr CO USA TMY3 WMO#=724666\n",
      "Updating Shadowing Calculations, Start Date=06/30\n",
      "Continuing Simulation at 06/30 for Denver Centennial  Golden   Nr CO USA TMY3 WMO#=724666\n",
      "Updating Shadowing Calculations, Start Date=07/20\n",
      "Continuing Simulation at 07/20 for Denver Centennial  Golden   Nr CO USA TMY3 WMO#=724666\n",
      "Updating Shadowing Calculations, Start Date=08/09\n",
      "Continuing Simulation at 08/09 for Denver Centennial  Golden   Nr CO USA TMY3 WMO#=724666\n",
      "Updating Shadowing Calculations, Start Date=08/29\n",
      "Continuing Simulation at 08/29 for Denver Centennial  Golden   Nr CO USA TMY3 WMO#=724666\n",
      "Updating Shadowing Calculations, Start Date=09/18\n",
      "Continuing Simulation at 09/18 for Denver Centennial  Golden   Nr CO USA TMY3 WMO#=724666\n",
      "Updating Shadowing Calculations, Start Date=10/08\n",
      "Continuing Simulation at 10/08 for Denver Centennial  Golden   Nr CO USA TMY3 WMO#=724666\n",
      "Updating Shadowing Calculations, Start Date=10/28\n",
      "Continuing Simulation at 10/28 for Denver Centennial  Golden   Nr CO USA TMY3 WMO#=724666\n",
      "Updating Shadowing Calculations, Start Date=11/17\n",
      "Continuing Simulation at 11/17 for Denver Centennial  Golden   Nr CO USA TMY3 WMO#=724666\n",
      "Updating Shadowing Calculations, Start Date=12/07\n",
      "Continuing Simulation at 12/07 for Denver Centennial  Golden   Nr CO USA TMY3 WMO#=724666\n",
      "Updating Shadowing Calculations, Start Date=12/27\n",
      "Continuing Simulation at 12/27 for Denver Centennial  Golden   Nr CO USA TMY3 WMO#=724666\n",
      "Writing tabular output file results using tab format.\n",
      "Writing tabular output file results using HTML format.\n",
      "Writing final SQL reports\n",
      "EnergyPlus Run Time=00hr 00min  6.82sec\n"
     ]
    }
   ],
   "source": [
    "%cd /home/xiaonanchong/EnergyPlus-8.8.0/test-utf8\n",
    "!energyplus -i /usr/local/EnergyPlus-8-8-0/Energy+.idd -w USA_CO_Golden-NREL.724666_TMY3.epw 1ZoneEvapCooler.idf"
   ]
  },
  {
   "cell_type": "code",
   "execution_count": 9,
   "metadata": {},
   "outputs": [
    {
     "name": "stdout",
     "output_type": "stream",
     "text": [
      "LESSOPEN=| /usr/bin/lesspipe %s\r\n",
      "USER=xiaonanchong\r\n",
      "MPLBACKEND=module://ipykernel.pylab.backend_inline\r\n",
      "SHLVL=1\r\n",
      "OLDPWD=/home/xiaonanchong\r\n",
      "HOME=/home/xiaonanchong\r\n",
      "PAGER=cat\r\n",
      "PS1=(rl) \\[\\e]0;\\u@\\h: \\w\\a\\]${debian_chroot:+($debian_chroot)}\\[\\033[01;32m\\]\\u@\\h\\[\\033[00m\\]:\\[\\033[01;34m\\]\\w\\[\\033[00m\\]\\$ \r\n",
      "ENERGYPLUS_MODEL=/home/xiaonanchong/rl-testbed-for-energyplus/EnergyPlus/Model/2ZoneDataCenterHVAC_wEconomizer_Temp_Fan.idf\r\n",
      "ENERGYPLUS_WEATHER=/usr/local/EnergyPlus-8-8-0/WeatherData/USA_CA_San.Francisco.Intl.AP.724940_TMY3.epw\r\n",
      "ENERGYPLUS=/usr/local/EnergyPlus-8-8-0/energyplus\r\n",
      "LOGNAME=xiaonanchong\r\n",
      "_=/home/xiaonanchong/venv/rl/bin/jupyter-notebook\r\n",
      "NAME=DESKTOP-QQ5S42Q\r\n",
      "TERM=xterm-color\r\n",
      "PATH=/home/xiaonanchong/venv/rl/bin:/home/xiaonanchong/bin:/home/xiaonanchong/.local/bin:/usr/local/sbin:/usr/local/bin:/usr/sbin:/usr/bin:/sbin:/bin:/usr/games:/usr/local/games:/mnt/c/Program Files/WindowsApps/CanonicalGroupLimited.Ubuntu16.04onWindows_1604.2019.522.0_x64__79rhkp1fndgsc:/mnt/c/Program Files (x86)/Common Files/Oracle/Java/javapath_target_11746625:/mnt/c/Windows/System32:/mnt/c/Windows:/mnt/c/Windows/System32/wbem:/mnt/c/Windows/System32/WindowsPowerShell/v1.0:/mnt/c/Windows/System32/OpenSSH:/mnt/e/MATLAB/R2019a/bin:/mnt/c/Users/xncho/AppData/Local/Microsoft/WindowsApps:/snap/bin\r\n",
      "LANG=en_US.UTF-8\r\n",
      "LS_COLORS=rs=0:di=01;34:ln=01;36:mh=00:pi=40;33:so=01;35:do=01;35:bd=40;33;01:cd=40;33;01:or=40;31;01:mi=00:su=37;41:sg=30;43:ca=30;41:tw=30;42:ow=34;42:st=37;44:ex=01;32:*.tar=01;31:*.tgz=01;31:*.arc=01;31:*.arj=01;31:*.taz=01;31:*.lha=01;31:*.lz4=01;31:*.lzh=01;31:*.lzma=01;31:*.tlz=01;31:*.txz=01;31:*.tzo=01;31:*.t7z=01;31:*.zip=01;31:*.z=01;31:*.Z=01;31:*.dz=01;31:*.gz=01;31:*.lrz=01;31:*.lz=01;31:*.lzo=01;31:*.xz=01;31:*.bz2=01;31:*.bz=01;31:*.tbz=01;31:*.tbz2=01;31:*.tz=01;31:*.deb=01;31:*.rpm=01;31:*.jar=01;31:*.war=01;31:*.ear=01;31:*.sar=01;31:*.rar=01;31:*.alz=01;31:*.ace=01;31:*.zoo=01;31:*.cpio=01;31:*.7z=01;31:*.rz=01;31:*.cab=01;31:*.jpg=01;35:*.jpeg=01;35:*.gif=01;35:*.bmp=01;35:*.pbm=01;35:*.pgm=01;35:*.ppm=01;35:*.tga=01;35:*.xbm=01;35:*.xpm=01;35:*.tif=01;35:*.tiff=01;35:*.png=01;35:*.svg=01;35:*.svgz=01;35:*.mng=01;35:*.pcx=01;35:*.mov=01;35:*.mpg=01;35:*.mpeg=01;35:*.m2v=01;35:*.mkv=01;35:*.webm=01;35:*.ogm=01;35:*.mp4=01;35:*.m4v=01;35:*.mp4v=01;35:*.vob=01;35:*.qt=01;35:*.nuv=01;35:*.wmv=01;35:*.asf=01;35:*.rm=01;35:*.rmvb=01;35:*.flc=01;35:*.avi=01;35:*.fli=01;35:*.flv=01;35:*.gl=01;35:*.dl=01;35:*.xcf=01;35:*.xwd=01;35:*.yuv=01;35:*.cgm=01;35:*.emf=01;35:*.ogv=01;35:*.ogx=01;35:*.aac=00;36:*.au=00;36:*.flac=00;36:*.m4a=00;36:*.mid=00;36:*.midi=00;36:*.mka=00;36:*.mp3=00;36:*.mpc=00;36:*.ogg=00;36:*.ra=00;36:*.wav=00;36:*.oga=00;36:*.opus=00;36:*.spx=00;36:*.xspf=00;36:\r\n",
      "SHELL=/bin/bash\r\n",
      "LESSCLOSE=/usr/bin/lesspipe %s %s\r\n",
      "VIRTUAL_ENV=/home/xiaonanchong/venv/rl\r\n",
      "GIT_PAGER=cat\r\n",
      "PWD=/home/xiaonanchong/EnergyPlus-8.8.0/test-utf8\r\n",
      "ENERGYPLUS_LOGBASE=/home/xiaonanchong/eplog\r\n",
      "CLICOLOR=1\r\n",
      "XDG_DATA_DIRS=/usr/local/share:/usr/share:/var/lib/snapd/desktop\r\n",
      "JPY_PARENT_PID=133\r\n",
      "PYTHONPATH=:/home/xiaonanchong/rl-testbed-for-energyplus\r\n",
      "HOSTTYPE=x86_64\r\n"
     ]
    }
   ],
   "source": [
    "!printenv"
   ]
  },
  {
   "cell_type": "code",
   "execution_count": 11,
   "metadata": {},
   "outputs": [
    {
     "name": "stdout",
     "output_type": "stream",
     "text": [
      "EnergyPlus Starting\n",
      "EnergyPlus, Version 8.8.0-Unknown, YMD=2019.05.29 09:53\n",
      "Processing Data Dictionary\n",
      "Processing Input File\n",
      "Initializing Response Factors\n",
      "Calculating CTFs for \"EXT-WALLS\", Construction # 1\n",
      "Calculating CTFs for \"FLOOR\", Construction # 2\n",
      "Calculating CTFs for \"PARTITION\", Construction # 4\n",
      "Calculating CTFs for \"PLENUM FLOOR\", Construction # 5\n",
      "Initializing Window Optical Properties\n",
      "Initializing Solar Calculations\n",
      "Allocate Solar Module Arrays\n",
      "Initializing Zone Report Variables\n",
      "Initializing Surface (Shading) Report Variables\n",
      "Computing Interior Solar Absorption Factors\n",
      "Determining Shadowing Combinations\n",
      "Computing Window Shade Absorption Factors\n",
      "Proceeding with Initializing Solar Calculations\n",
      "Initializing Surfaces\n",
      "Initializing Outdoor environment for Surfaces\n",
      "Setting up Surface Reporting Variables\n",
      "Initializing Temperature and Flux Histories\n",
      "Initializing Window Shading\n",
      "Computing Interior Absorption Factors\n",
      "Computing Interior Diffuse Solar Absorption Factors\n",
      "Computing Interior Diffuse Solar Exchange through Interzone Windows\n",
      "Initializing Solar Heat Gains\n",
      "Initializing Internal Heat Gains\n",
      "Initializing Interior Solar Distribution\n",
      "Initializing Interior Convection Coefficients\n",
      "Gathering Information for Predefined Reporting\n",
      "Completed Initializing Surface Heat Balance\n",
      "Calculate Outside Surface Heat Balance\n",
      "Calculate Inside Surface Heat Balance\n",
      "Calculate Air Heat Balance\n",
      "Initializing HVAC\n",
      "Warming up\n",
      "Warming up\n",
      "Warming up\n",
      "Warming up\n",
      "Warming up\n",
      "Warming up\n",
      "Performing Zone Sizing Simulation\n",
      "...for Sizing Period: #1 CHICAGO_IL_USA ANNUAL HEATING 99% DESIGN CONDITIONS DB\n",
      "Warming up\n",
      "Warming up\n",
      "Warming up\n",
      "Warming up\n",
      "Warming up\n",
      "Warming up\n",
      "Performing Zone Sizing Simulation\n",
      "...for Sizing Period: #2 CHICAGO_IL_USA ANNUAL COOLING 1% DESIGN CONDITIONS DB/MCWB\n",
      "**FATAL:InitializeExtCtrlActRoutines: Environment variable ACT_PIPE_FILENAME not specified\n",
      "EnergyPlus Run Time=00hr 00min  1.49sec\n"
     ]
    }
   ],
   "source": [
    "!energyplus -i /usr/local/EnergyPlus-8-8-0/Energy+.idd -w USA_CO_Golden-NREL.724666_TMY3.epw /home/xiaonanchong/rl-testbed-for-energyplus/EnergyPlus/Model/2ZoneDataCenterHVAC_wEconomizer_Temp_Fan.idf"
   ]
  }
 ],
 "metadata": {
  "kernelspec": {
   "display_name": "Python 3",
   "language": "python",
   "name": "python3"
  },
  "language_info": {
   "codemirror_mode": {
    "name": "ipython",
    "version": 3
   },
   "file_extension": ".py",
   "mimetype": "text/x-python",
   "name": "python",
   "nbconvert_exporter": "python",
   "pygments_lexer": "ipython3",
   "version": "3.5.2"
  }
 },
 "nbformat": 4,
 "nbformat_minor": 2
}
