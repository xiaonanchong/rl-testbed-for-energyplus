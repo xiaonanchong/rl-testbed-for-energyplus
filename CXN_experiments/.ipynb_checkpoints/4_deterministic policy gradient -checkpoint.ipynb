{
 "cells": [
  {
   "cell_type": "code",
   "execution_count": 5,
   "metadata": {},
   "outputs": [
    {
     "name": "stderr",
     "output_type": "stream",
     "text": [
      "Exception ignored in: <bound method EnergyPlusEnv.__del__ of <gym_energyplus.envs.energyplus_env.EnergyPlusEnv object at 0x7f84e914b898>>\n",
      "Traceback (most recent call last):\n",
      "  File \"/home/xiaonanchong/rl-testbed-for-energyplus/gym_energyplus/envs/energyplus_env.py\", line 78, in __del__\n",
      "    self.stop_instance()\n",
      "  File \"/home/xiaonanchong/rl-testbed-for-energyplus/gym_energyplus/envs/energyplus_env.py\", line 132, in stop_instance\n",
      "    self.energyplus_process.terminate()\n",
      "  File \"/usr/lib/python3.5/subprocess.py\", line 1782, in terminate\n",
      "    self.send_signal(signal.SIGTERM)\n",
      "  File \"/usr/lib/python3.5/subprocess.py\", line 1777, in send_signal\n",
      "    os.kill(self.pid, sig)\n",
      "ProcessLookupError: [Errno 3] No such process\n"
     ]
    },
    {
     "name": "stdout",
     "output_type": "stream",
     "text": [
      "Requirement already satisfied: import_ipynb in /home/xiaonanchong/venv/rl/lib/python3.5/site-packages (0.1.3)\n",
      "0 ---activation: sigmoid\n",
      "1 ---activation: relu\n",
      "2 ---activation: sigmoid\n",
      "---------- 0 ---------- \n",
      "Starting new environment\n",
      "start_instance(): idx=0, model_file=/home/xiaonanchong/rl-testbed-for-energyplus/EnergyPlus/Model/2ZoneDataCenterHVAC_wEconomizer_Temp_Fan.idf\n",
      "start_instance(): weather_files[0]=/usr/local/EnergyPlus-8-8-0/WeatherData/USA_CA_San.Francisco.Intl.AP.724940_TMY3.epw\n",
      "Starting EnergyPlus with command: /usr/local/EnergyPlus-8-8-0/energyplus -r -x -d log/output/episode-00000000 -w log/output/episode-00000000/USA_CA_San.Francisco.Intl.AP.724940_TMY3.epw log/output/episode-00000000/2ZoneDataCenterHVAC_wEconomizer_Temp_Fan.idf\n",
      "PipeIo.readline: Opening OBS pipe [/tmp/extctrl_251_obs]\n",
      "PipeIo.writeline: Opened ACT pipe /tmp/extctrl_251_act\n",
      "EnergyPlusEnv: Severe error(s) occurred. Error count: -1\n",
      "EnergyPlusEnv: Check contents of log/output/episode-00000000/eplusout.err\n",
      "Starting new environment\n",
      "start_instance(): idx=0, model_file=/home/xiaonanchong/rl-testbed-for-energyplus/EnergyPlus/Model/2ZoneDataCenterHVAC_wEconomizer_Temp_Fan.idf\n",
      "start_instance(): weather_files[0]=/usr/local/EnergyPlus-8-8-0/WeatherData/USA_CA_San.Francisco.Intl.AP.724940_TMY3.epw\n",
      "Starting EnergyPlus with command: /usr/local/EnergyPlus-8-8-0/energyplus -r -x -d log/output/episode-00000000 -w log/output/episode-00000000/USA_CA_San.Francisco.Intl.AP.724940_TMY3.epw log/output/episode-00000000/2ZoneDataCenterHVAC_wEconomizer_Temp_Fan.idf\n",
      "PipeIo.readline: Opening OBS pipe [/tmp/extctrl_251_obs]\n",
      "PipeIo.writeline: Opened ACT pipe /tmp/extctrl_251_act\n",
      "EnergyPlusEnv: Severe error(s) occurred. Error count: -1\n",
      "EnergyPlusEnv: Check contents of log/output/episode-00000000/eplusout.err\n",
      "Starting new environment\n",
      "start_instance(): idx=0, model_file=/home/xiaonanchong/rl-testbed-for-energyplus/EnergyPlus/Model/2ZoneDataCenterHVAC_wEconomizer_Temp_Fan.idf\n",
      "start_instance(): weather_files[0]=/usr/local/EnergyPlus-8-8-0/WeatherData/USA_CA_San.Francisco.Intl.AP.724940_TMY3.epw\n",
      "Starting EnergyPlus with command: /usr/local/EnergyPlus-8-8-0/energyplus -r -x -d log/output/episode-00000000 -w log/output/episode-00000000/USA_CA_San.Francisco.Intl.AP.724940_TMY3.epw log/output/episode-00000000/2ZoneDataCenterHVAC_wEconomizer_Temp_Fan.idf\n",
      "PipeIo.readline: Opening OBS pipe [/tmp/extctrl_251_obs]\n",
      "PipeIo.writeline: Opened ACT pipe /tmp/extctrl_251_act\n",
      "EnergyPlusEnv: Severe error(s) occurred. Error count: -1\n",
      "EnergyPlusEnv: Check contents of log/output/episode-00000000/eplusout.err\n",
      "Starting new environment\n",
      "start_instance(): idx=0, model_file=/home/xiaonanchong/rl-testbed-for-energyplus/EnergyPlus/Model/2ZoneDataCenterHVAC_wEconomizer_Temp_Fan.idf\n",
      "start_instance(): weather_files[0]=/usr/local/EnergyPlus-8-8-0/WeatherData/USA_CA_San.Francisco.Intl.AP.724940_TMY3.epw\n",
      "Starting EnergyPlus with command: /usr/local/EnergyPlus-8-8-0/energyplus -r -x -d log/output/episode-00000000 -w log/output/episode-00000000/USA_CA_San.Francisco.Intl.AP.724940_TMY3.epw log/output/episode-00000000/2ZoneDataCenterHVAC_wEconomizer_Temp_Fan.idf\n",
      "PipeIo.readline: Opening OBS pipe [/tmp/extctrl_251_obs]\n",
      "PipeIo.writeline: Opened ACT pipe /tmp/extctrl_251_act\n",
      "EnergyPlusEnv: Severe error(s) occurred. Error count: -1\n",
      "EnergyPlusEnv: Check contents of log/output/episode-00000000/eplusout.err\n",
      "Starting new environment\n",
      "start_instance(): idx=0, model_file=/home/xiaonanchong/rl-testbed-for-energyplus/EnergyPlus/Model/2ZoneDataCenterHVAC_wEconomizer_Temp_Fan.idf\n",
      "start_instance(): weather_files[0]=/usr/local/EnergyPlus-8-8-0/WeatherData/USA_CA_San.Francisco.Intl.AP.724940_TMY3.epw\n",
      "Starting EnergyPlus with command: /usr/local/EnergyPlus-8-8-0/energyplus -r -x -d log/output/episode-00000000 -w log/output/episode-00000000/USA_CA_San.Francisco.Intl.AP.724940_TMY3.epw log/output/episode-00000000/2ZoneDataCenterHVAC_wEconomizer_Temp_Fan.idf\n",
      "PipeIo.readline: Opening OBS pipe [/tmp/extctrl_251_obs]\n",
      "PipeIo.writeline: Opened ACT pipe /tmp/extctrl_251_act\n",
      "EnergyPlusEnv: Severe error(s) occurred. Error count: -1\n",
      "EnergyPlusEnv: Check contents of log/output/episode-00000000/eplusout.err\n",
      "Starting new environment\n",
      "start_instance(): idx=0, model_file=/home/xiaonanchong/rl-testbed-for-energyplus/EnergyPlus/Model/2ZoneDataCenterHVAC_wEconomizer_Temp_Fan.idf\n",
      "start_instance(): weather_files[0]=/usr/local/EnergyPlus-8-8-0/WeatherData/USA_CA_San.Francisco.Intl.AP.724940_TMY3.epw\n",
      "Starting EnergyPlus with command: /usr/local/EnergyPlus-8-8-0/energyplus -r -x -d log/output/episode-00000000 -w log/output/episode-00000000/USA_CA_San.Francisco.Intl.AP.724940_TMY3.epw log/output/episode-00000000/2ZoneDataCenterHVAC_wEconomizer_Temp_Fan.idf\n",
      "PipeIo.readline: Opening OBS pipe [/tmp/extctrl_251_obs]\n",
      "PipeIo.writeline: Opened ACT pipe /tmp/extctrl_251_act\n",
      "EnergyPlusEnv: Severe error(s) occurred. Error count: -1\n",
      "EnergyPlusEnv: Check contents of log/output/episode-00000000/eplusout.err\n",
      "Starting new environment\n",
      "start_instance(): idx=0, model_file=/home/xiaonanchong/rl-testbed-for-energyplus/EnergyPlus/Model/2ZoneDataCenterHVAC_wEconomizer_Temp_Fan.idf\n",
      "start_instance(): weather_files[0]=/usr/local/EnergyPlus-8-8-0/WeatherData/USA_CA_San.Francisco.Intl.AP.724940_TMY3.epw\n",
      "Starting EnergyPlus with command: /usr/local/EnergyPlus-8-8-0/energyplus -r -x -d log/output/episode-00000000 -w log/output/episode-00000000/USA_CA_San.Francisco.Intl.AP.724940_TMY3.epw log/output/episode-00000000/2ZoneDataCenterHVAC_wEconomizer_Temp_Fan.idf\n",
      "PipeIo.readline: Opening OBS pipe [/tmp/extctrl_251_obs]\n",
      "PipeIo.writeline: Opened ACT pipe /tmp/extctrl_251_act\n",
      "rewards:  -1713.5859653180516\n"
     ]
    },
    {
     "ename": "IsADirectoryError",
     "evalue": "[Errno 21] Is a directory: '/home/xiaonanchong/rl-testbed-for-energyplus/jupyter'",
     "output_type": "error",
     "traceback": [
      "\u001b[0;31m---------------------------------------------------------------------------\u001b[0m",
      "\u001b[0;31mIsADirectoryError\u001b[0m                         Traceback (most recent call last)",
      "\u001b[0;32m<ipython-input-5-002302a36782>\u001b[0m in \u001b[0;36m<module>\u001b[0;34m\u001b[0m\n\u001b[1;32m     63\u001b[0m     \u001b[0mnet\u001b[0m\u001b[0;34m.\u001b[0m\u001b[0mupdate_params\u001b[0m\u001b[0;34m(\u001b[0m\u001b[0mlearning_rate\u001b[0m\u001b[0;34m)\u001b[0m\u001b[0;34m\u001b[0m\u001b[0m\n\u001b[1;32m     64\u001b[0m \u001b[0;34m\u001b[0m\u001b[0m\n\u001b[0;32m---> 65\u001b[0;31m \u001b[0msave_network\u001b[0m\u001b[0;34m(\u001b[0m\u001b[0mnet\u001b[0m\u001b[0;34m,\u001b[0m \u001b[0;34m\"/home/xiaonanchong/rl-testbed-for-energyplus/jupyter\"\u001b[0m\u001b[0;34m)\u001b[0m\u001b[0;34m\u001b[0m\u001b[0m\n\u001b[0m\u001b[1;32m     66\u001b[0m \u001b[0mprint\u001b[0m\u001b[0;34m(\u001b[0m\u001b[0;34m'network saved'\u001b[0m\u001b[0;34m)\u001b[0m\u001b[0;34m\u001b[0m\u001b[0m\n",
      "\u001b[0;32m~/rl-testbed-for-energyplus/jupyter/nn_lib.ipynb\u001b[0m in \u001b[0;36msave_network\u001b[0;34m(network, fpath)\u001b[0m\n",
      "\u001b[0;31mIsADirectoryError\u001b[0m: [Errno 21] Is a directory: '/home/xiaonanchong/rl-testbed-for-energyplus/jupyter'"
     ]
    },
    {
     "data": {
      "image/png": "[encoded data removed]",
      "text/plain": [
       "<Figure size 1008x360 with 1 Axes>"
      ]
     },
     "metadata": {
      "needs_background": "light"
     },
     "output_type": "display_data"
    },
    {
     "data": {
      "image/png": "[encoded data removed]",
      "text/plain": [
       "<Figure size 1008x360 with 1 Axes>"
      ]
     },
     "metadata": {
      "needs_background": "light"
     },
     "output_type": "display_data"
    }
   ],
   "source": [
    "env_id = 'gym_energyplus:EnergyPlus-v0'\n",
    "\n",
    "iteration = 1\n",
    "batch_size = 7\n",
    "episode = 2#500\n",
    "learning_rate = 0.005\n",
    "\n",
    "\n",
    "\n",
    "import numpy as np\n",
    "import gym\n",
    "env = gym.make(env_id)\n",
    "\n",
    "output_dim = len(env.action_space.low)\n",
    "input_dim = len(env.observation_space.low)\n",
    "\n",
    "!pip install import_ipynb\n",
    "import import_ipynb\n",
    "from nn_lib import MultiLayerNetwork, save_network, load_network\n",
    "\n",
    "import nn_lib\n",
    "\n",
    "\n",
    "neurons = [32, 16, output_dim]\n",
    "activations = [\"sigmoid\", \"relu\", \"sigmoid\"]\n",
    "net = nn_lib.MultiLayerNetwork(input_dim, neurons, activations)\n",
    "\n",
    "import matplotlib.pyplot as plt\n",
    "%matplotlib inline \n",
    "plt.rcParams['figure.figsize'] = [14, 5]\n",
    "_, ax1 = plt.subplots()\n",
    "\n",
    "for i in range(iteration):\n",
    "    rewards = 0\n",
    "    print('---------- '+str(i)+' ---------- ')\n",
    "        \n",
    "    if i%1==0:\n",
    "        fig, ax = plt.subplots()\n",
    "    \n",
    "    for color in ['b', 'g', 'r', 'c', 'm', 'y', 'k']:\n",
    "        \n",
    "        t=0\n",
    "        env = gym.make(env_id)\n",
    "        observation = env.reset()\n",
    "        done = False\n",
    "        while not done and t<500:\n",
    "            x = observation.reshape((1, input_dim))\n",
    "            y = net(x)\n",
    "            action = y[0]*2 -1\n",
    "            #print(action)\n",
    "            observation, reward, done, info = env.step(action)\n",
    "            rewards+=reward*0.99**t\n",
    "            t+=1\n",
    "            \n",
    "            if i%1==0:    \n",
    "                ax.scatter(t,reward, c=color)    \n",
    "                \n",
    "    ax1.scatter(i,rewards)\n",
    "    \n",
    "    loss = -rewards/float(batch_size)\n",
    "    print('rewards: ', rewards)\n",
    "    net.backward(np.asarray([[loss for i in range(output_dim)]]))\n",
    "    net.update_params(learning_rate)\n",
    "    \n",
    "save_network(net, \"/home/xiaonanchong/rl-testbed-for-energyplus/jupyter/net1\") \n",
    "print('network saved')"
   ]
  }
 ],
 "metadata": {
  "kernelspec": {
   "display_name": "Python 3",
   "language": "python",
   "name": "python3"
  },
  "language_info": {
   "codemirror_mode": {
    "name": "ipython",
    "version": 3
   },
   "file_extension": ".py",
   "mimetype": "text/x-python",
   "name": "python",
   "nbconvert_exporter": "python",
   "pygments_lexer": "ipython3",
   "version": "3.5.2"
  }
 },
 "nbformat": 4,
 "nbformat_minor": 2
}
